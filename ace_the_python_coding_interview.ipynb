{
 "cells": [
  {
   "cell_type": "markdown",
   "metadata": {},
   "source": [
    "https://www.educative.io/path/ace-python-coding-interview\n"
   ]
  },
  {
   "cell_type": "markdown",
   "metadata": {},
   "source": [
    "# Data Structure\n"
   ]
  },
  {
   "cell_type": "markdown",
   "metadata": {},
   "source": [
    "## List\n",
    "\n",
    "The objects of lists themselves are stored in random memory locations whereas the pointers that make up the list are stored in sequential locations\n",
    "\n"
   ]
  },
  {
   "cell_type": "code",
   "execution_count": 19,
   "metadata": {},
   "outputs": [],
   "source": [
    "def f(i, values = []):\n",
    "    values.append(i)\n",
    "    print(values)\n",
    "    return values\n"
   ]
  },
  {
   "cell_type": "code",
   "execution_count": 18,
   "metadata": {},
   "outputs": [
    {
     "name": "stdout",
     "output_type": "stream",
     "text": [
      "[1]\n",
      "[1, 2]\n",
      "[1, 2, 3]\n"
     ]
    },
    {
     "data": {
      "text/plain": [
       "[1, 2, 3]"
      ]
     },
     "execution_count": 18,
     "metadata": {},
     "output_type": "execute_result"
    }
   ],
   "source": [
    "f(1)\n",
    "f(2)\n",
    "f(3)"
   ]
  },
  {
   "cell_type": "code",
   "execution_count": null,
   "metadata": {},
   "outputs": [],
   "source": []
  },
  {
   "cell_type": "markdown",
   "metadata": {},
   "source": [
    "### Challenge 1: Remove Even Integers from List\n",
    "\n",
    "Given a list of size n, remove all even integers from it. Implement this solution in Python and see if it runs without an error.\n",
    "\n",
    "Problem Statement \n",
    "\n",
    "Implement a function that removes all the even elements from a given list. Name it remove_even(list).\n",
    "\n",
    "Input \n",
    "\n",
    "A list with random integers.\n",
    "\n",
    "Output \n",
    "\n",
    "A list with only odd integers\n",
    "\n",
    "Sample Input \n",
    "\n",
    "my_list = [1,2,4,5,10,6,3]\n",
    "\n",
    "Sample output\n",
    "\n",
    "my_list = [1,5,3]\n",
    "\n",
    "Time Complexity \n",
    "\n",
    "Since the entire list has to be iterated over, this solution is in O(n) time.\n",
    "\n",
    "\n",
    "\n"
   ]
  },
  {
   "cell_type": "code",
   "execution_count": 1,
   "metadata": {},
   "outputs": [],
   "source": [
    "def remove_even(nums):\n",
    "    return [num for num in nums if num%2 != 0]\n"
   ]
  },
  {
   "cell_type": "code",
   "execution_count": null,
   "metadata": {},
   "outputs": [],
   "source": []
  },
  {
   "cell_type": "markdown",
   "metadata": {},
   "source": [
    "### Challenge 2: Merge Two Sorted Lists\n",
    "\n",
    "Given two sorted lists, merge them into one list which should also be sorted.\n",
    "\n",
    "Problem Statement \n",
    "\n",
    "Implement a function that merges two sorted lists of m and n elements respectively, into another sorted list. Name it merge_lists(lst1, lst2).\n",
    "\n",
    "Input \n",
    "\n",
    "Two sorted lists.\n",
    "\n",
    "Output \n",
    "\n",
    "A merged and sorted list consisting of all elements of both input lists.\n",
    "\n",
    "Sample Input \n",
    "\n",
    "list1 = [1,3,4,5]  \n",
    "list2 = [2,6,7,8]\n",
    "\n",
    "Sample Output \n",
    "\n",
    "arr = [1,2,3,4,5,6,7,8]\n",
    "\n",
    "\n",
    "Time Complexity \n",
    "\n",
    "Since both lists are traversed in this solution as well, the time complexity is O(m(n+m)) \n",
    "where n and m are the lengths of the lists. Both lists are not traversed separately so we cannot say that complexity is (m+n)(m+n). The shorter of the two lengths is traversed in the while loop. Also, the insert function gets called when the if-condition is true. In the worst-case, the second list has all the elements that are smaller than the elements of the first list. In this case, the complexity will be O(mn)O(mn). Note that if m > n, we have O(mn)O(mn), otherwise the complexity is O(n^2).\n",
    "\n",
    "However, the extra space used in solution#1 is reduced to O(m) in solution#2. Thus, it makes this a tradeoff between space and time.\n"
   ]
  },
  {
   "cell_type": "code",
   "execution_count": 2,
   "metadata": {},
   "outputs": [],
   "source": [
    "def merge_lists(nums1, nums2):\n",
    "    # Write your code here\n",
    "    m, n = len(nums1), len(nums2)\n",
    "    while m > 0 and n > 0:\n",
    "        if nums1[m-1] > nums2[n-1]:\n",
    "            nums1[m + n -1] = nums1[m - 1]\n",
    "            m -= 1\n",
    "        else:\n",
    "            nums1[m + n -1] = nums2[n - 1]\n",
    "            n -= 1\n",
    "        while n > 0:\n",
    "            nums1[n -1] = nums2[n - 1]\n",
    "            n -= 1\n",
    "        return\n",
    "    "
   ]
  },
  {
   "cell_type": "code",
   "execution_count": 3,
   "metadata": {},
   "outputs": [],
   "source": [
    "def merge_lists(lst1, lst2):\n",
    "    ind1 = 0\n",
    "    ind2 = 0\n",
    "    while(ind1 < len(lst1) and ind2 < len(lst2)):\n",
    "        if(lst1[ind1] > lst2[ind2]):\n",
    "            lst1.insert(ind1, lst2[ind2])\n",
    "            ind1 += 1\n",
    "            ind2 += 1\n",
    "        else:\n",
    "            ind1 += 1\n",
    "\n",
    "    if(ind2 < len(lst2)):\n",
    "        lst1.extend(lst2[ind2:])\n",
    "    return lst1\n"
   ]
  },
  {
   "cell_type": "code",
   "execution_count": null,
   "metadata": {},
   "outputs": [],
   "source": []
  },
  {
   "cell_type": "markdown",
   "metadata": {},
   "source": [
    "### Challenge 4: List of Products of all Elements\n",
    "\n",
    "Given a list, modify it so that each index stores the product of all elements in the list except the element at the index itself.\n",
    "\n",
    "Problem Statement \n",
    "\n",
    "Implement a function, find_product(lst), which modifies a list so that each index has a product of all the numbers present in the list except the number stored at that index.\n",
    "\n",
    "Input: \n",
    "\n",
    "A list of numbers (could be floating points or integers)\n",
    "\n",
    "Output: \n",
    "\n",
    "A list such that each index has a product of all the numbers in the list except the number stored at that index.\n",
    "\n",
    "Sample Input \n",
    "\n",
    "arr = [1,2,3,4]\n",
    "\n",
    "Sample Output \n",
    "\n",
    "arr = [24,12,8,6]\n",
    "\n",
    "\n",
    "Time Complexity \n",
    "\n",
    "Since this algorithm only traverses over the list twice, it’s in linear time, O(n)O(n).\n"
   ]
  },
  {
   "cell_type": "code",
   "execution_count": 4,
   "metadata": {},
   "outputs": [],
   "source": [
    "def find_product(lst):\n",
    "    left = 1\n",
    "    product = []\n",
    "    for ele in lst:\n",
    "        product.append(left)\n",
    "        left = left * ele\n",
    "\n",
    "    right = 1\n",
    "    for i in range(len(lst)-1, -1, -1):\n",
    "        product[i] = product[i] * right\n",
    "        right = right * lst[i]\n",
    "\n",
    "    return product\n"
   ]
  },
  {
   "cell_type": "code",
   "execution_count": null,
   "metadata": {},
   "outputs": [],
   "source": []
  },
  {
   "cell_type": "markdown",
   "metadata": {},
   "source": [
    "### Challenge 5: Find Minimum Value in List\n",
    "\n",
    "Given a list of size ‘n,’ can you find the minimum value in the list?\n",
    "\n",
    "Problem Statement #\n",
    "Implement a function findMinimum(lst) which finds the smallest number in the given list.\n",
    "\n",
    "Input: #\n",
    "\n",
    "A list of integers\n",
    "\n",
    "Output: #\n",
    "\n",
    "The smallest number in the list\n",
    "\n",
    "Sample Input #\n",
    "\n",
    "arr = [9,2,3,6]\n",
    "\n",
    "Sample Output #\n",
    "\n",
    "2\n",
    "\n",
    "\n",
    "Time Complexity\n",
    "\n",
    "Since the entire list is iterated over once, this algorithm is in linear time O(n).\n",
    "\n",
    "\n"
   ]
  },
  {
   "cell_type": "code",
   "execution_count": 5,
   "metadata": {},
   "outputs": [],
   "source": [
    "def find_minimum(arr):\n",
    "    min_val = arr[0]\n",
    "    for val in arr:\n",
    "        if val < min_val:\n",
    "            min_val = val\n",
    "    return min_val\n"
   ]
  },
  {
   "cell_type": "code",
   "execution_count": null,
   "metadata": {},
   "outputs": [],
   "source": []
  },
  {
   "cell_type": "markdown",
   "metadata": {},
   "source": [
    "### Challenge 7: Find Second Maximum Value in a List\n",
    "\n",
    "Given a list of size n, can you find the second maximum element in the list?\n",
    "\n",
    "Problem Statement #\n",
    "Implement a function find_second_maximum(lst) which returns the second largest element in the list.\n",
    "\n",
    "Input: #\n",
    "\n",
    "A List\n",
    "\n",
    "Output: #\n",
    "\n",
    "Second largest element in the list\n",
    "\n",
    "Sample Input #\n",
    "\n",
    "[9,2,3,6]\n",
    "\n",
    "Sample Output #\n",
    "\n",
    "6\n",
    "\n",
    "Time Complexity #\n",
    "\n",
    "This solution is in O(n)O(n) since the list is traversed once only.\n"
   ]
  },
  {
   "cell_type": "code",
   "execution_count": 6,
   "metadata": {},
   "outputs": [],
   "source": [
    "def find_second_maximum(lst):\n",
    "    max_val = float('-inf')\n",
    "    second_max = float('-inf')\n",
    "    for val in lst:\n",
    "        if val > max_val:\n",
    "            second_max = max_val\n",
    "            max_val = val \n",
    "        elif val > second_max:\n",
    "            second_max = val\n",
    "    return second_max\n"
   ]
  },
  {
   "cell_type": "code",
   "execution_count": 7,
   "metadata": {},
   "outputs": [],
   "source": [
    "def find_second_maximum(lst):\n",
    "    first_max = float('-inf')\n",
    "    second_max = float('-inf')\n",
    "    # find first max\n",
    "    for item in lst:\n",
    "        if item > first_max:\n",
    "            first_max = item\n",
    "    # find max relative to first max\n",
    "    for item in lst:\n",
    "        if item != first_max and item > second_max:\n",
    "            second_max = item\n",
    "    return second_max\n"
   ]
  },
  {
   "cell_type": "code",
   "execution_count": null,
   "metadata": {},
   "outputs": [],
   "source": []
  },
  {
   "cell_type": "markdown",
   "metadata": {},
   "source": [
    "### Challenge 8: Right Rotate List\n",
    "\n",
    "Given a list, can you rotate its elements by one index from right to left?\n",
    "\n",
    "Problem Statement #\n",
    "\n",
    "Implement a function right_rotate(lst, k) which will rotate the given list by k. This means that the right-most elements will appear at the left-most position in the list and so on. You only have to rotate the list by one element at a time.\n",
    "\n",
    "Input #\n",
    "\n",
    "A list and a number by which to rotate that list\n",
    "\n",
    "Output: #\n",
    "\n",
    "The given list rotated by k elements\n",
    "\n",
    "Sample Input #\n",
    "\n",
    "lst = [10,20,30,40,50]\n",
    "n = 3\n",
    "\n",
    "Sample Output #\n",
    "\n",
    "lst = [30,40,50,10,20]\n",
    "\n",
    "\n",
    "Time Complexity #\n",
    "\n",
    "List slicing is in O(k)O(k) where kk represents the number of elements that are sliced, \n",
    "and since the entire list is sliced, hence the total time complexity is in O(n).\n",
    "\n"
   ]
  },
  {
   "cell_type": "code",
   "execution_count": 8,
   "metadata": {},
   "outputs": [],
   "source": [
    "def right_rotate(lst, k):\n",
    "    k = k % len(lst)\n",
    "    return lst[-k:] + lst[:-k]\n"
   ]
  },
  {
   "cell_type": "code",
   "execution_count": null,
   "metadata": {},
   "outputs": [],
   "source": []
  },
  {
   "cell_type": "markdown",
   "metadata": {},
   "source": [
    "### Challenge 9: Rearrange Positive & Negative Values\n",
    "\n",
    "Given a list, can you rearrange its elements in such a way that the negative elements appear at one end and positive elements appear at the other?\n",
    "\n",
    "Problem Statement #\n",
    "\n",
    "Implement a function rearrange(lst) which rearranges the elements such that all the negative elements appear on the left and positive elements appear at the right of the list. Note that it is not necessary to maintain the sorted order of the input list.\n",
    "\n",
    "Generally zero is NOT positive or negative, we will treat zero as a positive integer for this challenge! So, zero will be placed at the right.\n",
    "\n",
    "Output #\n",
    "\n",
    "A list with negative elements at the left and positive elements at the right\n",
    "\n",
    "Sample Input #\n",
    "\n",
    "[10,-1,20,4,5,-9,-6]\n",
    "\n",
    "Sample Output #\n",
    "\n",
    "[-1,-9,-6,10,20,4,5]\n",
    "\n",
    "Time Complexity #\n",
    "\n",
    "The time complexity of the solution is O(n)O(n) as it is iterated over twice.\n",
    "\n",
    "\n"
   ]
  },
  {
   "cell_type": "code",
   "execution_count": 9,
   "metadata": {},
   "outputs": [],
   "source": [
    "def rearrange(lst):\n",
    "    return [i for i in lst if i < 0] + [i for i in lst if i >= 0]\n"
   ]
  },
  {
   "cell_type": "code",
   "execution_count": null,
   "metadata": {},
   "outputs": [],
   "source": []
  },
  {
   "cell_type": "markdown",
   "metadata": {},
   "source": [
    "### Challenge 10: Rearrange Sorted List in Max/Min Form\n",
    "\n",
    "Arrange elements in such a way that the maximum element appears at first position, then minimum at second, then second maximum at third and second minimum at fourth and so on.\n",
    "\n",
    "Problem Statement #\n",
    "\n",
    "Implement a function called max_min(lst) which will re-arrange the elements of a sorted list such that the 0th index will have the largest number, the 1st index will have the smallest, and the third index will have second-largest, and so on. In other words, all the odd-numbered indices will have the largest numbers in the list in descending order and the even-numbered indices will have the smallest numbers in ascending order.\n",
    "\n",
    "Input: #\n",
    "\n",
    "A sorted list\n",
    "\n",
    "Output: #\n",
    "\n",
    "A list with elements stored in max/min form\n",
    "\n",
    "Sample Input #\n",
    "\n",
    "lst = [1,2,3,4,5]\n",
    "\n",
    "Sample Output #\n",
    "\n",
    "lst = [5,1,4,2,3]\n",
    "\n"
   ]
  },
  {
   "cell_type": "code",
   "execution_count": 10,
   "metadata": {},
   "outputs": [],
   "source": [
    "def max_min(lst):\n",
    "    result = []\n",
    "    for i in range(len(lst)//2):\n",
    "        result.append(lst[-(i+1)])\n",
    "        result.append(lst[i])\n",
    "    if len(lst) % 2:\n",
    "        result.append(lst[len(lst)//2])\n",
    "    return result\n"
   ]
  },
  {
   "cell_type": "code",
   "execution_count": null,
   "metadata": {},
   "outputs": [],
   "source": []
  },
  {
   "cell_type": "markdown",
   "metadata": {},
   "source": [
    "### Challenge 11: Maximum Sum Sublist\n",
    "\n",
    "Given an array, find the contiguous sublist with the largest sum.\n",
    "\n",
    "Maximum sublist sum: An overview #\n",
    "\n",
    "Given an unsorted list A, the maximum sum sub list is the sub list (contiguous elements) from A for which the sum of the elements is maximum. \n",
    "In this challenge, we want to find the sum of the maximum sum sub list. \n",
    "This problem is a tricky one because the list might have negative integers in any position, so we have to cater to those negative integers while choosing the continuous sublist with the largest positive values.\n",
    "\n",
    "Problem statement #\n",
    "\n",
    "Given an integer list, return the maximum sublist sum. The list may contain both positive and negative integers and is unsorted.\n",
    "\n",
    "Partial function definition #\n",
    "\n",
    "def find_max_sum_sublist(lst):\n",
    "  pass\n",
    "  \n",
    "Input #\n",
    "\n",
    "a list lst\n",
    "\n",
    "Output #\n",
    "\n",
    "a number (maximum subarray sum)\n",
    "\n",
    "Sample input #\n",
    "\n",
    "-4\n",
    "2\n",
    "-5\n",
    "1\n",
    "2\n",
    "3\n",
    "6\n",
    "-5\n",
    "1\n",
    "\n",
    "Sample output #\n",
    "\n",
    "largest_sum = 12\n",
    "\n"
   ]
  },
  {
   "cell_type": "code",
   "execution_count": 11,
   "metadata": {},
   "outputs": [],
   "source": [
    "def find_max_sum_subarray(lst): \n",
    "    if (len(lst) < 1): \n",
    "        return 0\n",
    "\n",
    "    curr_max, global_max = lst[0], lst[0]\n",
    "    for i in range(1, len(lst)):\n",
    "        if curr_max < 0: \n",
    "            curr_max = lst[i]\n",
    "        else:\n",
    "            curr_max += lst[i]\n",
    "        if global_max < curr_max:\n",
    "            global_max = curr_max\n",
    "\n",
    "    return global_max\n",
    "\n"
   ]
  },
  {
   "cell_type": "code",
   "execution_count": null,
   "metadata": {},
   "outputs": [],
   "source": []
  },
  {
   "cell_type": "markdown",
   "metadata": {},
   "source": [
    "## Linked Lists\n"
   ]
  },
  {
   "cell_type": "markdown",
   "metadata": {},
   "source": [
    "### Challenge 1: Insertion at Tail\n",
    "\n",
    "Problem Statement #\n",
    "\n",
    "Just as heads and tails are polar opposites, \n",
    "this function is the opposite of what we saw in the last lesson. \n",
    "However, it is just as simple.\n",
    "\n",
    "We need to insert a new object at the end of the linked list. \n",
    "You can naturally guess, that this newly added node will point to None as it is at the tail.\n",
    "\n",
    "Input #\n",
    "\n",
    "A linked list and an integer value.\n",
    "\n",
    "Output #\n",
    "\n",
    "The updated linked list with the value inserted.\n",
    "\n",
    "Sample Input #\n",
    "\n",
    "Linked List = 0->1->2\n",
    "\n",
    "integer = 3\n",
    "\n",
    "Sample Output #\n",
    "\n",
    "Linked List = 0->1->2->3\n",
    "\n",
    "Time Complexity #\n",
    "\n",
    "This algorithm traverses the entire linked list and hence, works in O(n) time.\n",
    "\n",
    "At this point, we have covered the first two types of insertions. \n",
    "The last one, Insertion at the kth Position, is just an extension of these two. \n",
    "If you need to insert a node at a specific index in the list, simply iterate to that position and appropriately switch pointers. \n",
    "Try it out on your own.\n",
    "\n"
   ]
  },
  {
   "cell_type": "code",
   "execution_count": 21,
   "metadata": {},
   "outputs": [],
   "source": [
    "class Node:\n",
    "    def __init__(self, data):\n",
    "        self.data = data\n",
    "        self.next_element = None\n",
    "\n",
    "        from Node import Node\n",
    "\n",
    "\n",
    "class LinkedList:\n",
    "    def __init__(self):\n",
    "        self.head_node = None\n",
    "\n",
    "    def get_head(self):\n",
    "        return self.head_node\n",
    "\n",
    "    def is_empty(self):\n",
    "        if(self.head_node is None):  # Check whether the head is None\n",
    "            return True\n",
    "        else:\n",
    "            return False\n",
    "\n",
    "    # Supplementary print function\n",
    "    def print_list(self):\n",
    "        if(self.is_empty()):\n",
    "            print(\"List is Empty\")\n",
    "            return False\n",
    "        temp = self.head_node\n",
    "        while temp.next_element is not None:\n",
    "            print(temp.data, end=\" -> \")\n",
    "            temp = temp.next_element\n",
    "        print(temp.data, \"-> None\")\n",
    "        return True\n",
    "\n",
    "    "
   ]
  },
  {
   "cell_type": "code",
   "execution_count": 22,
   "metadata": {},
   "outputs": [],
   "source": [
    "# Inserts a value at the end of the list\n",
    "def insert_at_tail(lst, value):\n",
    "    # Creating a new node\n",
    "    new_node = Node(value)\n",
    "\n",
    "    # Check if the list is empty, if it is simply point head to new node\n",
    "    if lst.get_head() is None:\n",
    "        lst.head_node = new_node\n",
    "        return\n",
    "\n",
    "    # if list not empty, traverse the list to the last node\n",
    "    temp = lst.get_head()\n",
    "\n",
    "    while temp.next_element:\n",
    "        temp = temp.next_element\n",
    "\n",
    "    # Set the nextElement of the previous node to new node\n",
    "    temp.next_element = new_node\n",
    "    return\n",
    "\n"
   ]
  },
  {
   "cell_type": "code",
   "execution_count": null,
   "metadata": {},
   "outputs": [],
   "source": []
  },
  {
   "cell_type": "markdown",
   "metadata": {},
   "source": [
    "### Challenge 2: Search in a Singly Linked List\n",
    "\n",
    "Problem Statement #\n",
    "\n",
    "It’s time to figure out how to implement another popular linked list function: search\n",
    "\n",
    "To search for a specific value in a linked list, there is no other approach but to traverse the whole list until we find the desired value.\n",
    "\n",
    "In that sense, the search operation in linked lists is similar to the linear search in normal lists or arrays - all of them take O(n) amount of time.\n",
    "\n",
    "The search algorithm in a linked list can be generalized to the following steps:\n",
    "\n",
    "Start from the head node.\n",
    "\n",
    "Traverse the list till you either find a node with the given value \n",
    "or you reach the end node which will indicate that the given node doesn’t exist in the list.\n",
    "\n",
    "Input #\n",
    "\n",
    "A linked list and an integer to be searched.\n",
    "\n",
    "Output #\n",
    "\n",
    "True if the integer is found. False otherwise.\n",
    "\n",
    "Sample Input #\n",
    "\n",
    "Linked List = 5->90->10->4  \n",
    "\n",
    "Integer = 4\n",
    "\n",
    "Sample Output #\n",
    "True\n",
    "\n",
    "Time Complexity #\n",
    "\n",
    "The time complexity for this algorithm is O(n). \n",
    "However, the space complexity for the recursive approach is also O(n), \n",
    "whereas the iterative solution can do it in O(1) space complexity.\n",
    "\n",
    "\n"
   ]
  },
  {
   "cell_type": "code",
   "execution_count": 23,
   "metadata": {},
   "outputs": [],
   "source": [
    "def search(lst, value):\n",
    "\n",
    "    # Start from first element\n",
    "    current_node = lst.get_head()\n",
    "\n",
    "    # Traverse the list till you reach end\n",
    "    while current_node:\n",
    "        if current_node.data == value:\n",
    "            return True  # value found\n",
    "        current_node = current_node.next_element\n",
    "    return False  # value not found\n",
    "\n"
   ]
  },
  {
   "cell_type": "code",
   "execution_count": null,
   "metadata": {},
   "outputs": [],
   "source": []
  },
  {
   "cell_type": "markdown",
   "metadata": {},
   "source": [
    "### Challenge 3: Deletion by Value\n",
    "\n",
    "Problem Statement #\n",
    "\n",
    "In this lesson, you’ll be implementing the delete by value strategy. \n",
    "We’ll describe its functionality, which should give you a clearer idea of what you have to do.\n",
    "\n",
    "If you fully understood the last lesson, this should be a piece of cake.\n",
    "\n",
    "In this function, we can pass a particular value that we want to delete from the list. \n",
    "The node containing this value could be anywhere in the list. \n",
    "It is also possible that such a node may not exist at all.\n",
    "\n",
    "Therefore, we would have to traverse the whole list until we find the value which needs to be deleted. If the value doesn’t exist, we do not need to do anything.\n",
    "\n",
    "Input #\n",
    "\n",
    "A linked list and an integer to be deleted.\n",
    "\n",
    "Output #\n",
    "\n",
    "True if the value is deleted. Otherwise, False.\n",
    "\n",
    "Sample Input #\n",
    "\n",
    "LinkedList = 3->2->1->0\n",
    "\n",
    "Integer = 2\n",
    "\n",
    "Sample Output #\n",
    "\n",
    "True\n",
    "\n",
    "The algorithm is very similar to delete_at_head. \n",
    "The only difference is that you need to keep track of two nodes, current_node and previous_node.\n",
    "\n",
    "current_node will always stay one step ahead of previous_node. \n",
    "Whenever current_node becomes the node to be deleted, \n",
    "the previous_node starts pointing at the node next to current_node. \n",
    "If current_node is the last element, previous_node will simply point to None.\n",
    "\n",
    "\n",
    "\n",
    "Time Complexity #\n",
    "\n",
    "In the worst case, you would have to traverse until the end of the list. \n",
    "This means the time complexity will be O(n).\n",
    "\n"
   ]
  },
  {
   "cell_type": "code",
   "execution_count": 24,
   "metadata": {},
   "outputs": [],
   "source": [
    "def delete(lst, value):\n",
    "    deleted = False\n",
    "    if lst.is_empty():  # Check if list is empty -> Return False\n",
    "        print(\"List is Empty\")\n",
    "        return deleted\n",
    "    current_node = lst.get_head()  # Get current node\n",
    "    previous_node = None  # Get previous node\n",
    "    if current_node.data is value:\n",
    "        lst.delete_at_head()  # Use the previous function\n",
    "        deleted = True\n",
    "        return deleted\n",
    "\n",
    "    # Traversing/Searching for Node to Delete\n",
    "    while current_node is not None:\n",
    "        # Node to delete is found\n",
    "        if value is current_node.data:\n",
    "            # previous node now points to next node\n",
    "            previous_node.next_element = current_node.next_element\n",
    "            current_node.next_element = None\n",
    "            deleted = True\n",
    "            break\n",
    "        previous_node = current_node\n",
    "        current_node = current_node.next_element\n",
    "\n",
    "    if deleted is False:\n",
    "        print(str(value) + \" is not in list!\")\n",
    "    else:\n",
    "        print(str(value) + \" deleted!\")\n",
    "\n",
    "    return deleted\n"
   ]
  },
  {
   "cell_type": "code",
   "execution_count": null,
   "metadata": {},
   "outputs": [],
   "source": []
  },
  {
   "cell_type": "markdown",
   "metadata": {},
   "source": [
    "### Challenge 4: Find the Length of a Linked List\n",
    "\n",
    "\n",
    "Problem Statement #\n",
    "\n",
    "In this problem, you have to implement the length() function which will find the length of a given linked list.\n",
    "\n",
    "Input #\n",
    "\n",
    "A linked list.\n",
    "\n",
    "Output #\n",
    "\n",
    "The number of nodes in the list.\n",
    "\n",
    "Sample Input #\n",
    "\n",
    "linkedlist = 0->1->2->3->4\n",
    "\n",
    "Sample Output #\n",
    "\n",
    "5 \n",
    "\n",
    "Time Complexity #\n",
    "\n",
    "Since this is a linear algorithm, the time complexity will be O(n).\n"
   ]
  },
  {
   "cell_type": "code",
   "execution_count": 25,
   "metadata": {},
   "outputs": [],
   "source": [
    "def length(lst):\n",
    "    # start from the first element\n",
    "    curr = lst.get_head()\n",
    "    length = 0\n",
    "\n",
    "    # Traverse the list and count the number of nodes\n",
    "    while curr:\n",
    "        length += 1\n",
    "        curr = curr.next_element\n",
    "    return length\n"
   ]
  },
  {
   "cell_type": "code",
   "execution_count": null,
   "metadata": {},
   "outputs": [],
   "source": []
  },
  {
   "cell_type": "code",
   "execution_count": null,
   "metadata": {},
   "outputs": [],
   "source": []
  },
  {
   "cell_type": "code",
   "execution_count": null,
   "metadata": {},
   "outputs": [],
   "source": []
  },
  {
   "cell_type": "code",
   "execution_count": null,
   "metadata": {},
   "outputs": [],
   "source": []
  },
  {
   "cell_type": "code",
   "execution_count": null,
   "metadata": {},
   "outputs": [],
   "source": []
  },
  {
   "cell_type": "code",
   "execution_count": null,
   "metadata": {},
   "outputs": [],
   "source": []
  },
  {
   "cell_type": "code",
   "execution_count": null,
   "metadata": {},
   "outputs": [],
   "source": []
  },
  {
   "cell_type": "code",
   "execution_count": null,
   "metadata": {},
   "outputs": [],
   "source": []
  },
  {
   "cell_type": "code",
   "execution_count": null,
   "metadata": {},
   "outputs": [],
   "source": []
  },
  {
   "cell_type": "code",
   "execution_count": null,
   "metadata": {},
   "outputs": [],
   "source": []
  },
  {
   "cell_type": "code",
   "execution_count": null,
   "metadata": {},
   "outputs": [],
   "source": []
  },
  {
   "cell_type": "code",
   "execution_count": null,
   "metadata": {},
   "outputs": [],
   "source": []
  },
  {
   "cell_type": "code",
   "execution_count": null,
   "metadata": {},
   "outputs": [],
   "source": []
  },
  {
   "cell_type": "code",
   "execution_count": null,
   "metadata": {},
   "outputs": [],
   "source": []
  },
  {
   "cell_type": "code",
   "execution_count": null,
   "metadata": {},
   "outputs": [],
   "source": []
  },
  {
   "cell_type": "code",
   "execution_count": null,
   "metadata": {},
   "outputs": [],
   "source": []
  },
  {
   "cell_type": "code",
   "execution_count": null,
   "metadata": {},
   "outputs": [],
   "source": []
  },
  {
   "cell_type": "code",
   "execution_count": null,
   "metadata": {},
   "outputs": [],
   "source": []
  },
  {
   "cell_type": "code",
   "execution_count": null,
   "metadata": {},
   "outputs": [],
   "source": []
  },
  {
   "cell_type": "code",
   "execution_count": null,
   "metadata": {},
   "outputs": [],
   "source": []
  },
  {
   "cell_type": "code",
   "execution_count": null,
   "metadata": {},
   "outputs": [],
   "source": []
  },
  {
   "cell_type": "code",
   "execution_count": null,
   "metadata": {},
   "outputs": [],
   "source": []
  },
  {
   "cell_type": "code",
   "execution_count": null,
   "metadata": {},
   "outputs": [],
   "source": []
  }
 ],
 "metadata": {
  "kernelspec": {
   "display_name": "Python 3",
   "language": "python",
   "name": "python3"
  },
  "language_info": {
   "codemirror_mode": {
    "name": "ipython",
    "version": 3
   },
   "file_extension": ".py",
   "mimetype": "text/x-python",
   "name": "python",
   "nbconvert_exporter": "python",
   "pygments_lexer": "ipython3",
   "version": "3.7.6"
  }
 },
 "nbformat": 4,
 "nbformat_minor": 4
}
