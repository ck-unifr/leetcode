{
 "cells": [
  {
   "cell_type": "markdown",
   "metadata": {},
   "source": [
    "https://www.educative.io/path/ace-python-coding-interview\n"
   ]
  },
  {
   "cell_type": "markdown",
   "metadata": {},
   "source": [
    "# Data Structure\n"
   ]
  },
  {
   "cell_type": "markdown",
   "metadata": {},
   "source": [
    "## List"
   ]
  },
  {
   "cell_type": "markdown",
   "metadata": {},
   "source": [
    "### Challenge 1: Remove Even Integers from List\n",
    "\n",
    "Given a list of size n, remove all even integers from it. Implement this solution in Python and see if it runs without an error.\n",
    "\n",
    "Problem Statement \n",
    "\n",
    "Implement a function that removes all the even elements from a given list. Name it remove_even(list).\n",
    "\n",
    "Input \n",
    "\n",
    "A list with random integers.\n",
    "\n",
    "Output \n",
    "\n",
    "A list with only odd integers\n",
    "\n",
    "Sample Input \n",
    "\n",
    "my_list = [1,2,4,5,10,6,3]\n",
    "\n",
    "Sample output\n",
    "\n",
    "my_list = [1,5,3]\n",
    "\n",
    "Time Complexity \n",
    "\n",
    "Since the entire list has to be iterated over, this solution is in O(n) time.\n",
    "\n",
    "\n",
    "\n"
   ]
  },
  {
   "cell_type": "code",
   "execution_count": 1,
   "metadata": {},
   "outputs": [],
   "source": [
    "def remove_even(nums):\n",
    "    return [num for num in nums if num%2 != 0]\n"
   ]
  },
  {
   "cell_type": "code",
   "execution_count": null,
   "metadata": {},
   "outputs": [],
   "source": []
  },
  {
   "cell_type": "markdown",
   "metadata": {},
   "source": [
    "### Challenge 2: Merge Two Sorted Lists\n",
    "\n",
    "Given two sorted lists, merge them into one list which should also be sorted.\n",
    "\n",
    "Problem Statement \n",
    "\n",
    "Implement a function that merges two sorted lists of m and n elements respectively, into another sorted list. Name it merge_lists(lst1, lst2).\n",
    "\n",
    "Input \n",
    "\n",
    "Two sorted lists.\n",
    "\n",
    "Output \n",
    "\n",
    "A merged and sorted list consisting of all elements of both input lists.\n",
    "\n",
    "Sample Input \n",
    "\n",
    "list1 = [1,3,4,5]  \n",
    "list2 = [2,6,7,8]\n",
    "\n",
    "Sample Output \n",
    "\n",
    "arr = [1,2,3,4,5,6,7,8]\n"
   ]
  },
  {
   "cell_type": "code",
   "execution_count": 2,
   "metadata": {},
   "outputs": [],
   "source": [
    "def merge_lists(nums1, nums2):\n",
    "    # Write your code here\n",
    "    m, n = len(nums1), len(nums2)\n",
    "    while m > 0 and n > 0:\n",
    "        if nums1[m-1] > nums2[n-1]:\n",
    "            nums1[m + n -1] = nums1[m - 1]\n",
    "            m -= 1\n",
    "        else:\n",
    "            nums1[m + n -1] = nums2[n - 1]\n",
    "            n -= 1\n",
    "        while n > 0:\n",
    "            nums1[n -1] = nums2[n - 1]\n",
    "            n -= 1\n",
    "        return\n",
    "    "
   ]
  },
  {
   "cell_type": "code",
   "execution_count": 3,
   "metadata": {},
   "outputs": [],
   "source": [
    "def merge_lists(lst1, lst2):\n",
    "    ind1 = 0\n",
    "    ind2 = 0\n",
    "    while(ind1 < len(lst1) and ind2 < len(lst2)):\n",
    "        if(lst1[ind1] > lst2[ind2]):\n",
    "            lst1.insert(ind1, lst2[ind2])\n",
    "            ind1 += 1\n",
    "            ind2 += 1\n",
    "        else:\n",
    "            ind1 += 1\n",
    "\n",
    "    if(ind2 < len(lst2)):\n",
    "        lst1.extend(lst2[ind2:])\n",
    "    return lst1\n"
   ]
  },
  {
   "cell_type": "code",
   "execution_count": null,
   "metadata": {},
   "outputs": [],
   "source": []
  },
  {
   "cell_type": "code",
   "execution_count": null,
   "metadata": {},
   "outputs": [],
   "source": []
  },
  {
   "cell_type": "code",
   "execution_count": null,
   "metadata": {},
   "outputs": [],
   "source": []
  },
  {
   "cell_type": "code",
   "execution_count": null,
   "metadata": {},
   "outputs": [],
   "source": []
  },
  {
   "cell_type": "code",
   "execution_count": null,
   "metadata": {},
   "outputs": [],
   "source": []
  },
  {
   "cell_type": "code",
   "execution_count": null,
   "metadata": {},
   "outputs": [],
   "source": []
  },
  {
   "cell_type": "code",
   "execution_count": null,
   "metadata": {},
   "outputs": [],
   "source": []
  },
  {
   "cell_type": "code",
   "execution_count": null,
   "metadata": {},
   "outputs": [],
   "source": []
  },
  {
   "cell_type": "code",
   "execution_count": null,
   "metadata": {},
   "outputs": [],
   "source": []
  },
  {
   "cell_type": "code",
   "execution_count": null,
   "metadata": {},
   "outputs": [],
   "source": []
  },
  {
   "cell_type": "code",
   "execution_count": null,
   "metadata": {},
   "outputs": [],
   "source": []
  },
  {
   "cell_type": "code",
   "execution_count": null,
   "metadata": {},
   "outputs": [],
   "source": []
  },
  {
   "cell_type": "code",
   "execution_count": null,
   "metadata": {},
   "outputs": [],
   "source": []
  },
  {
   "cell_type": "code",
   "execution_count": null,
   "metadata": {},
   "outputs": [],
   "source": []
  }
 ],
 "metadata": {
  "kernelspec": {
   "display_name": "Python 3",
   "language": "python",
   "name": "python3"
  },
  "language_info": {
   "codemirror_mode": {
    "name": "ipython",
    "version": 3
   },
   "file_extension": ".py",
   "mimetype": "text/x-python",
   "name": "python",
   "nbconvert_exporter": "python",
   "pygments_lexer": "ipython3",
   "version": "3.7.6"
  }
 },
 "nbformat": 4,
 "nbformat_minor": 4
}
