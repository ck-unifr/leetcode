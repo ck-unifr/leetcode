{
 "cells": [
  {
   "cell_type": "markdown",
   "metadata": {},
   "source": [
    "https://www.educative.io/path/ace-python-coding-interview\n"
   ]
  },
  {
   "cell_type": "markdown",
   "metadata": {},
   "source": [
    "# Data Structure\n"
   ]
  },
  {
   "cell_type": "markdown",
   "metadata": {},
   "source": [
    "## List"
   ]
  },
  {
   "cell_type": "markdown",
   "metadata": {},
   "source": [
    "### Challenge 1: Remove Even Integers from List\n",
    "\n",
    "Given a list of size n, remove all even integers from it. Implement this solution in Python and see if it runs without an error.\n",
    "\n",
    "Problem Statement \n",
    "\n",
    "Implement a function that removes all the even elements from a given list. Name it remove_even(list).\n",
    "\n",
    "Input \n",
    "\n",
    "A list with random integers.\n",
    "\n",
    "Output \n",
    "\n",
    "A list with only odd integers\n",
    "\n",
    "Sample Input \n",
    "\n",
    "my_list = [1,2,4,5,10,6,3]\n",
    "\n",
    "Sample output\n",
    "\n",
    "my_list = [1,5,3]\n",
    "\n",
    "Time Complexity \n",
    "\n",
    "Since the entire list has to be iterated over, this solution is in O(n) time.\n",
    "\n",
    "\n",
    "\n"
   ]
  },
  {
   "cell_type": "code",
   "execution_count": 1,
   "metadata": {},
   "outputs": [],
   "source": [
    "def remove_even(nums):\n",
    "    return [num for num in nums if num%2 != 0]\n"
   ]
  },
  {
   "cell_type": "code",
   "execution_count": null,
   "metadata": {},
   "outputs": [],
   "source": []
  },
  {
   "cell_type": "markdown",
   "metadata": {},
   "source": [
    "### Challenge 2: Merge Two Sorted Lists\n",
    "\n",
    "Given two sorted lists, merge them into one list which should also be sorted.\n",
    "\n",
    "Problem Statement \n",
    "\n",
    "Implement a function that merges two sorted lists of m and n elements respectively, into another sorted list. Name it merge_lists(lst1, lst2).\n",
    "\n",
    "Input \n",
    "\n",
    "Two sorted lists.\n",
    "\n",
    "Output \n",
    "\n",
    "A merged and sorted list consisting of all elements of both input lists.\n",
    "\n",
    "Sample Input \n",
    "\n",
    "list1 = [1,3,4,5]  \n",
    "list2 = [2,6,7,8]\n",
    "\n",
    "Sample Output \n",
    "\n",
    "arr = [1,2,3,4,5,6,7,8]\n",
    "\n",
    "\n",
    "Time Complexity \n",
    "\n",
    "Since both lists are traversed in this solution as well, the time complexity is O(m(n+m)) \n",
    "where n and m are the lengths of the lists. Both lists are not traversed separately so we cannot say that complexity is (m+n)(m+n). The shorter of the two lengths is traversed in the while loop. Also, the insert function gets called when the if-condition is true. In the worst-case, the second list has all the elements that are smaller than the elements of the first list. In this case, the complexity will be O(mn)O(mn). Note that if m > n, we have O(mn)O(mn), otherwise the complexity is O(n^2).\n",
    "\n",
    "However, the extra space used in solution#1 is reduced to O(m) in solution#2. Thus, it makes this a tradeoff between space and time.\n"
   ]
  },
  {
   "cell_type": "code",
   "execution_count": 2,
   "metadata": {},
   "outputs": [],
   "source": [
    "def merge_lists(nums1, nums2):\n",
    "    # Write your code here\n",
    "    m, n = len(nums1), len(nums2)\n",
    "    while m > 0 and n > 0:\n",
    "        if nums1[m-1] > nums2[n-1]:\n",
    "            nums1[m + n -1] = nums1[m - 1]\n",
    "            m -= 1\n",
    "        else:\n",
    "            nums1[m + n -1] = nums2[n - 1]\n",
    "            n -= 1\n",
    "        while n > 0:\n",
    "            nums1[n -1] = nums2[n - 1]\n",
    "            n -= 1\n",
    "        return\n",
    "    "
   ]
  },
  {
   "cell_type": "code",
   "execution_count": 3,
   "metadata": {},
   "outputs": [],
   "source": [
    "def merge_lists(lst1, lst2):\n",
    "    ind1 = 0\n",
    "    ind2 = 0\n",
    "    while(ind1 < len(lst1) and ind2 < len(lst2)):\n",
    "        if(lst1[ind1] > lst2[ind2]):\n",
    "            lst1.insert(ind1, lst2[ind2])\n",
    "            ind1 += 1\n",
    "            ind2 += 1\n",
    "        else:\n",
    "            ind1 += 1\n",
    "\n",
    "    if(ind2 < len(lst2)):\n",
    "        lst1.extend(lst2[ind2:])\n",
    "    return lst1\n"
   ]
  },
  {
   "cell_type": "code",
   "execution_count": null,
   "metadata": {},
   "outputs": [],
   "source": []
  },
  {
   "cell_type": "markdown",
   "metadata": {},
   "source": [
    "### Challenge 4: List of Products of all Elements\n",
    "\n",
    "Given a list, modify it so that each index stores the product of all elements in the list except the element at the index itself.\n",
    "\n",
    "Problem Statement \n",
    "\n",
    "Implement a function, find_product(lst), which modifies a list so that each index has a product of all the numbers present in the list except the number stored at that index.\n",
    "\n",
    "Input: \n",
    "\n",
    "A list of numbers (could be floating points or integers)\n",
    "\n",
    "Output: \n",
    "\n",
    "A list such that each index has a product of all the numbers in the list except the number stored at that index.\n",
    "\n",
    "Sample Input \n",
    "\n",
    "arr = [1,2,3,4]\n",
    "\n",
    "Sample Output \n",
    "\n",
    "arr = [24,12,8,6]\n",
    "\n",
    "\n",
    "Time Complexity \n",
    "\n",
    "Since this algorithm only traverses over the list twice, it’s in linear time, O(n)O(n).\n"
   ]
  },
  {
   "cell_type": "code",
   "execution_count": 4,
   "metadata": {},
   "outputs": [],
   "source": [
    "def find_product(lst):\n",
    "    left = 1\n",
    "    product = []\n",
    "    for ele in lst:\n",
    "        product.append(left)\n",
    "        left = left * ele\n",
    "\n",
    "    right = 1\n",
    "    for i in range(len(lst)-1, -1, -1):\n",
    "        product[i] = product[i] * right\n",
    "        right = right * lst[i]\n",
    "\n",
    "    return product\n"
   ]
  },
  {
   "cell_type": "code",
   "execution_count": null,
   "metadata": {},
   "outputs": [],
   "source": []
  },
  {
   "cell_type": "markdown",
   "metadata": {},
   "source": [
    "### Challenge 5: Find Minimum Value in List\n",
    "\n",
    "Given a list of size ‘n,’ can you find the minimum value in the list?\n",
    "\n",
    "Problem Statement #\n",
    "Implement a function findMinimum(lst) which finds the smallest number in the given list.\n",
    "\n",
    "Input: #\n",
    "\n",
    "A list of integers\n",
    "\n",
    "Output: #\n",
    "\n",
    "The smallest number in the list\n",
    "\n",
    "Sample Input #\n",
    "\n",
    "arr = [9,2,3,6]\n",
    "\n",
    "Sample Output #\n",
    "\n",
    "2\n",
    "\n",
    "\n",
    "Time Complexity\n",
    "\n",
    "Since the entire list is iterated over once, this algorithm is in linear time O(n).\n",
    "\n",
    "\n"
   ]
  },
  {
   "cell_type": "code",
   "execution_count": 5,
   "metadata": {},
   "outputs": [],
   "source": [
    "def find_minimum(arr):\n",
    "    min_val = arr[0]\n",
    "    for val in arr:\n",
    "        if val < min_val:\n",
    "            min_val = val\n",
    "    return min_val\n"
   ]
  },
  {
   "cell_type": "code",
   "execution_count": null,
   "metadata": {},
   "outputs": [],
   "source": []
  },
  {
   "cell_type": "markdown",
   "metadata": {},
   "source": [
    "### Challenge 7: Find Second Maximum Value in a List\n",
    "\n",
    "Given a list of size n, can you find the second maximum element in the list?\n",
    "\n",
    "Problem Statement #\n",
    "Implement a function find_second_maximum(lst) which returns the second largest element in the list.\n",
    "\n",
    "Input: #\n",
    "\n",
    "A List\n",
    "\n",
    "Output: #\n",
    "\n",
    "Second largest element in the list\n",
    "\n",
    "Sample Input #\n",
    "\n",
    "[9,2,3,6]\n",
    "\n",
    "Sample Output #\n",
    "\n",
    "6\n",
    "\n",
    "Time Complexity #\n",
    "\n",
    "This solution is in O(n)O(n) since the list is traversed once only.\n"
   ]
  },
  {
   "cell_type": "code",
   "execution_count": 6,
   "metadata": {},
   "outputs": [],
   "source": [
    "def find_second_maximum(lst):\n",
    "    max_val = float('-inf')\n",
    "    second_max = float('-inf')\n",
    "    for val in lst:\n",
    "        if val > max_val:\n",
    "            second_max = max_val\n",
    "            max_val = val \n",
    "        elif val > second_max:\n",
    "            second_max = val\n",
    "    return second_max\n"
   ]
  },
  {
   "cell_type": "code",
   "execution_count": 7,
   "metadata": {},
   "outputs": [],
   "source": [
    "def find_second_maximum(lst):\n",
    "    first_max = float('-inf')\n",
    "    second_max = float('-inf')\n",
    "    # find first max\n",
    "    for item in lst:\n",
    "        if item > first_max:\n",
    "            first_max = item\n",
    "    # find max relative to first max\n",
    "    for item in lst:\n",
    "        if item != first_max and item > second_max:\n",
    "            second_max = item\n",
    "    return second_max\n"
   ]
  },
  {
   "cell_type": "code",
   "execution_count": null,
   "metadata": {},
   "outputs": [],
   "source": []
  },
  {
   "cell_type": "markdown",
   "metadata": {},
   "source": [
    "### Challenge 8: Right Rotate List\n",
    "\n",
    "Given a list, can you rotate its elements by one index from right to left?\n",
    "\n",
    "Problem Statement #\n",
    "\n",
    "Implement a function right_rotate(lst, k) which will rotate the given list by k. This means that the right-most elements will appear at the left-most position in the list and so on. You only have to rotate the list by one element at a time.\n",
    "\n",
    "Input #\n",
    "\n",
    "A list and a number by which to rotate that list\n",
    "\n",
    "Output: #\n",
    "\n",
    "The given list rotated by k elements\n",
    "\n",
    "Sample Input #\n",
    "\n",
    "lst = [10,20,30,40,50]\n",
    "n = 3\n",
    "\n",
    "Sample Output #\n",
    "\n",
    "lst = [30,40,50,10,20]\n",
    "\n",
    "\n",
    "Time Complexity #\n",
    "\n",
    "List slicing is in O(k)O(k) where kk represents the number of elements that are sliced, \n",
    "and since the entire list is sliced, hence the total time complexity is in O(n).\n",
    "\n"
   ]
  },
  {
   "cell_type": "code",
   "execution_count": 8,
   "metadata": {},
   "outputs": [],
   "source": [
    "def right_rotate(lst, k):\n",
    "    k = k % len(lst)\n",
    "    return lst[-k:] + lst[:-k]\n"
   ]
  },
  {
   "cell_type": "code",
   "execution_count": null,
   "metadata": {},
   "outputs": [],
   "source": []
  },
  {
   "cell_type": "code",
   "execution_count": null,
   "metadata": {},
   "outputs": [],
   "source": []
  },
  {
   "cell_type": "code",
   "execution_count": null,
   "metadata": {},
   "outputs": [],
   "source": []
  },
  {
   "cell_type": "code",
   "execution_count": null,
   "metadata": {},
   "outputs": [],
   "source": []
  },
  {
   "cell_type": "code",
   "execution_count": null,
   "metadata": {},
   "outputs": [],
   "source": []
  },
  {
   "cell_type": "code",
   "execution_count": null,
   "metadata": {},
   "outputs": [],
   "source": []
  },
  {
   "cell_type": "code",
   "execution_count": null,
   "metadata": {},
   "outputs": [],
   "source": []
  },
  {
   "cell_type": "code",
   "execution_count": null,
   "metadata": {},
   "outputs": [],
   "source": []
  },
  {
   "cell_type": "code",
   "execution_count": null,
   "metadata": {},
   "outputs": [],
   "source": []
  },
  {
   "cell_type": "code",
   "execution_count": null,
   "metadata": {},
   "outputs": [],
   "source": []
  },
  {
   "cell_type": "code",
   "execution_count": null,
   "metadata": {},
   "outputs": [],
   "source": []
  },
  {
   "cell_type": "code",
   "execution_count": null,
   "metadata": {},
   "outputs": [],
   "source": []
  },
  {
   "cell_type": "code",
   "execution_count": null,
   "metadata": {},
   "outputs": [],
   "source": []
  },
  {
   "cell_type": "code",
   "execution_count": null,
   "metadata": {},
   "outputs": [],
   "source": []
  },
  {
   "cell_type": "code",
   "execution_count": null,
   "metadata": {},
   "outputs": [],
   "source": []
  },
  {
   "cell_type": "code",
   "execution_count": null,
   "metadata": {},
   "outputs": [],
   "source": []
  },
  {
   "cell_type": "code",
   "execution_count": null,
   "metadata": {},
   "outputs": [],
   "source": []
  },
  {
   "cell_type": "code",
   "execution_count": null,
   "metadata": {},
   "outputs": [],
   "source": []
  },
  {
   "cell_type": "code",
   "execution_count": null,
   "metadata": {},
   "outputs": [],
   "source": []
  },
  {
   "cell_type": "code",
   "execution_count": null,
   "metadata": {},
   "outputs": [],
   "source": []
  },
  {
   "cell_type": "code",
   "execution_count": null,
   "metadata": {},
   "outputs": [],
   "source": []
  },
  {
   "cell_type": "code",
   "execution_count": null,
   "metadata": {},
   "outputs": [],
   "source": []
  },
  {
   "cell_type": "code",
   "execution_count": null,
   "metadata": {},
   "outputs": [],
   "source": []
  },
  {
   "cell_type": "code",
   "execution_count": null,
   "metadata": {},
   "outputs": [],
   "source": []
  },
  {
   "cell_type": "code",
   "execution_count": null,
   "metadata": {},
   "outputs": [],
   "source": []
  },
  {
   "cell_type": "code",
   "execution_count": null,
   "metadata": {},
   "outputs": [],
   "source": []
  },
  {
   "cell_type": "code",
   "execution_count": null,
   "metadata": {},
   "outputs": [],
   "source": []
  },
  {
   "cell_type": "code",
   "execution_count": null,
   "metadata": {},
   "outputs": [],
   "source": []
  },
  {
   "cell_type": "code",
   "execution_count": null,
   "metadata": {},
   "outputs": [],
   "source": []
  },
  {
   "cell_type": "code",
   "execution_count": null,
   "metadata": {},
   "outputs": [],
   "source": []
  },
  {
   "cell_type": "code",
   "execution_count": null,
   "metadata": {},
   "outputs": [],
   "source": []
  },
  {
   "cell_type": "code",
   "execution_count": null,
   "metadata": {},
   "outputs": [],
   "source": []
  },
  {
   "cell_type": "code",
   "execution_count": null,
   "metadata": {},
   "outputs": [],
   "source": []
  },
  {
   "cell_type": "code",
   "execution_count": null,
   "metadata": {},
   "outputs": [],
   "source": []
  },
  {
   "cell_type": "code",
   "execution_count": null,
   "metadata": {},
   "outputs": [],
   "source": []
  },
  {
   "cell_type": "code",
   "execution_count": null,
   "metadata": {},
   "outputs": [],
   "source": []
  },
  {
   "cell_type": "code",
   "execution_count": null,
   "metadata": {},
   "outputs": [],
   "source": []
  },
  {
   "cell_type": "code",
   "execution_count": null,
   "metadata": {},
   "outputs": [],
   "source": []
  },
  {
   "cell_type": "code",
   "execution_count": null,
   "metadata": {},
   "outputs": [],
   "source": []
  },
  {
   "cell_type": "code",
   "execution_count": null,
   "metadata": {},
   "outputs": [],
   "source": []
  },
  {
   "cell_type": "code",
   "execution_count": null,
   "metadata": {},
   "outputs": [],
   "source": []
  },
  {
   "cell_type": "code",
   "execution_count": null,
   "metadata": {},
   "outputs": [],
   "source": []
  },
  {
   "cell_type": "code",
   "execution_count": null,
   "metadata": {},
   "outputs": [],
   "source": []
  },
  {
   "cell_type": "code",
   "execution_count": null,
   "metadata": {},
   "outputs": [],
   "source": []
  },
  {
   "cell_type": "code",
   "execution_count": null,
   "metadata": {},
   "outputs": [],
   "source": []
  },
  {
   "cell_type": "code",
   "execution_count": null,
   "metadata": {},
   "outputs": [],
   "source": []
  }
 ],
 "metadata": {
  "kernelspec": {
   "display_name": "Python 3",
   "language": "python",
   "name": "python3"
  },
  "language_info": {
   "codemirror_mode": {
    "name": "ipython",
    "version": 3
   },
   "file_extension": ".py",
   "mimetype": "text/x-python",
   "name": "python",
   "nbconvert_exporter": "python",
   "pygments_lexer": "ipython3",
   "version": "3.7.6"
  }
 },
 "nbformat": 4,
 "nbformat_minor": 4
}
