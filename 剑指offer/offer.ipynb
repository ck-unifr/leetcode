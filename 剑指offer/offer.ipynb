{
 "cells": [
  {
   "cell_type": "markdown",
   "metadata": {
    "toc": true
   },
   "source": [
    "<h1>Table of Contents<span class=\"tocSkip\"></span></h1>\n",
    "<div class=\"toc\"><ul class=\"toc-item\"><li><span><a href=\"#二维数组中的查找\" data-toc-modified-id=\"二维数组中的查找-1\"><span class=\"toc-item-num\">1&nbsp;&nbsp;</span>二维数组中的查找</a></span></li><li><span><a href=\"#从尾到头打印链表\" data-toc-modified-id=\"从尾到头打印链表-2\"><span class=\"toc-item-num\">2&nbsp;&nbsp;</span>从尾到头打印链表</a></span></li><li><span><a href=\"#重建二叉树\" data-toc-modified-id=\"重建二叉树-3\"><span class=\"toc-item-num\">3&nbsp;&nbsp;</span>重建二叉树</a></span></li><li><span><a href=\"#调整数组顺序使奇数位于偶数前面\" data-toc-modified-id=\"调整数组顺序使奇数位于偶数前面-4\"><span class=\"toc-item-num\">4&nbsp;&nbsp;</span>调整数组顺序使奇数位于偶数前面</a></span></li><li><span><a href=\"#用两个栈来实现队列\" data-toc-modified-id=\"用两个栈来实现队列-5\"><span class=\"toc-item-num\">5&nbsp;&nbsp;</span>用两个栈来实现队列</a></span></li><li><span><a href=\"#用两个队列实现栈\" data-toc-modified-id=\"用两个队列实现栈-6\"><span class=\"toc-item-num\">6&nbsp;&nbsp;</span>用两个队列实现栈</a></span></li><li><span><a href=\"#旋转数组中的最小数字\" data-toc-modified-id=\"旋转数组中的最小数字-7\"><span class=\"toc-item-num\">7&nbsp;&nbsp;</span>旋转数组中的最小数字</a></span></li><li><span><a href=\"#斐波那契数列\" data-toc-modified-id=\"斐波那契数列-8\"><span class=\"toc-item-num\">8&nbsp;&nbsp;</span>斐波那契数列</a></span></li><li><span><a href=\"#跳台阶\" data-toc-modified-id=\"跳台阶-9\"><span class=\"toc-item-num\">9&nbsp;&nbsp;</span>跳台阶</a></span></li><li><span><a href=\"#变态跳台阶\" data-toc-modified-id=\"变态跳台阶-10\"><span class=\"toc-item-num\">10&nbsp;&nbsp;</span>变态跳台阶</a></span></li><li><span><a href=\"#矩阵覆盖\" data-toc-modified-id=\"矩阵覆盖-11\"><span class=\"toc-item-num\">11&nbsp;&nbsp;</span>矩阵覆盖</a></span></li><li><span><a href=\"#二进制中1的个数\" data-toc-modified-id=\"二进制中1的个数-12\"><span class=\"toc-item-num\">12&nbsp;&nbsp;</span>二进制中1的个数</a></span></li><li><span><a href=\"#字符串的排列\" data-toc-modified-id=\"字符串的排列-13\"><span class=\"toc-item-num\">13&nbsp;&nbsp;</span>字符串的排列</a></span></li><li><span><a href=\"#数值的整数次方\" data-toc-modified-id=\"数值的整数次方-14\"><span class=\"toc-item-num\">14&nbsp;&nbsp;</span>数值的整数次方</a></span></li><li><span><a href=\"#链表中倒数第k个节点\" data-toc-modified-id=\"链表中倒数第k个节点-15\"><span class=\"toc-item-num\">15&nbsp;&nbsp;</span>链表中倒数第k个节点</a></span></li><li><span><a href=\"#反转链表\" data-toc-modified-id=\"反转链表-16\"><span class=\"toc-item-num\">16&nbsp;&nbsp;</span>反转链表</a></span></li><li><span><a href=\"#合并两个排序的链表\" data-toc-modified-id=\"合并两个排序的链表-17\"><span class=\"toc-item-num\">17&nbsp;&nbsp;</span>合并两个排序的链表</a></span></li></ul></div>"
   ]
  },
  {
   "cell_type": "markdown",
   "metadata": {},
   "source": [
    "# 二维数组中的查找\n",
    "\n",
    "\n",
    "\n",
    "题目描述\n",
    "在一个 n * m 的二维数组中，每一行都按照从左到右递增的顺序排序，每一列都按照从上到下递增的顺序排序。请完成一个函数，输入这样的一个二维数组和一个整数，判断数组中是否含有该整数。\n",
    "\n",
    "示例:\n",
    "\n",
    "现有矩阵 matrix 如下：\n",
    "\n",
    "[\n",
    "  [1,   4,  7, 11, 15],\n",
    "  [2,   5,  8, 12, 19],\n",
    "  [3,   6,  9, 16, 22],\n",
    "  [10, 13, 14, 17, 24],\n",
    "  [18, 21, 23, 26, 30]\n",
    "]\n",
    "给定 target = 5，返回 true。\n",
    "\n",
    "给定 target = 20，返回 false。\n",
    "\n",
    "\n",
    "https://leetcode-cn.com/problems/search-a-2d-matrix-ii/\n",
    "\n"
   ]
  },
  {
   "cell_type": "code",
   "execution_count": 1,
   "metadata": {},
   "outputs": [],
   "source": [
    "class Solution:\n",
    "    # array 二维列表\n",
    "    def Find(self, target, array):\n",
    "        if not array or not array[0]:\n",
    "            return False\n",
    "        rows, cols = len(array), len(array[0])\n",
    "        i = rows - 1\n",
    "        j = 0\n",
    "        while i >= 0 and j <= cols - 1:\n",
    "            if array[i][j] == target:\n",
    "                return True\n",
    "            if array[i][j] < target:\n",
    "                j += 1\n",
    "            else:\n",
    "                i -= 1\n",
    "        return False\n",
    "        \n",
    "        "
   ]
  },
  {
   "cell_type": "code",
   "execution_count": null,
   "metadata": {},
   "outputs": [],
   "source": []
  },
  {
   "cell_type": "markdown",
   "metadata": {},
   "source": [
    "# 从尾到头打印链表\n"
   ]
  },
  {
   "cell_type": "code",
   "execution_count": 2,
   "metadata": {},
   "outputs": [],
   "source": [
    "def printListFromTailToHead(listNode):\n",
    "    ans = []\n",
    "    while listNode:\n",
    "        ans.append(listNode.value)\n",
    "        listNode = listNode.next\n",
    "    return ans[::-1]\n",
    "\n",
    "def printLinkedList(pHead):\n",
    "    if not pHead.value:\n",
    "        return\n",
    "    printLinkedList(pHead.next)\n",
    "    print(pHead.value)\n",
    "        \n",
    "    \n"
   ]
  },
  {
   "cell_type": "code",
   "execution_count": null,
   "metadata": {},
   "outputs": [],
   "source": []
  },
  {
   "cell_type": "markdown",
   "metadata": {},
   "source": [
    "# 重建二叉树\n",
    "\n",
    "题目描述：\n",
    "\n",
    "输入某二叉树的前序遍历和中序遍历的结果，请重建出该二叉树。假设输入的前序遍历和中序遍历的结果中都不含重复的数字。例如输入前序遍历序列{1,2,4,7,3,5,6,8}和中序遍历序列{4,7,2,1,5,3,8,6}，则重建二叉树并返回。\n"
   ]
  },
  {
   "cell_type": "code",
   "execution_count": 3,
   "metadata": {},
   "outputs": [],
   "source": [
    "class TreeNode:\n",
    "    \n",
    "    def __init__(self, val=0, left=None, right=None):\n",
    "        self.val = val\n",
    "        self.left = None\n",
    "        self.right = None\n",
    "        \n",
    "        \n",
    "class Solution:\n",
    "    def reConstructBinaryTree(self, pre_order, in_order):\n",
    "        if not len(pre_order):\n",
    "            return None\n",
    "        if len(pre_order) == 1:\n",
    "            return TreeNode()\n",
    "        root = TreeNode(pre_order[0])\n",
    "        index = in_order.index(pre_order[0])\n",
    "        root.left = self.reConstructBinaryTree(pre_order[1:index+1], in_order[:index])\n",
    "        root.right = self.reConstructBinaryTree(pre_order[index+1:], index_order[index+1:])\n",
    "        return root\n",
    "    "
   ]
  },
  {
   "cell_type": "code",
   "execution_count": null,
   "metadata": {},
   "outputs": [],
   "source": []
  },
  {
   "cell_type": "markdown",
   "metadata": {},
   "source": [
    "# 调整数组顺序使奇数位于偶数前面\n",
    "\n",
    "题目描述：\n",
    "\n",
    "输入一个整数数组，实现一个函数来调整该数组中数字的顺序，使得所有的奇数位于数组的前半部分，所有的偶数位于位于数组的后半部分，并保证奇数和奇数，偶数和偶数之间的相对位置不变。\n"
   ]
  },
  {
   "cell_type": "code",
   "execution_count": 6,
   "metadata": {},
   "outputs": [],
   "source": [
    "def isOdd(a):\n",
    "    return (a & 1) == 1\n",
    "\n",
    "def isOdd2(a):\n",
    "    return a % 2 != 0\n",
    "\n",
    "def re_order_array(array):\n",
    "    odd_index = 0\n",
    "    for i, num in enumerate(array):\n",
    "        if isOdd2(num):\n",
    "            array[odd_index], array[i] = array[i], array[odd_index]\n",
    "            odd_index += 1\n",
    "    return\n",
    "\n",
    "    "
   ]
  },
  {
   "cell_type": "code",
   "execution_count": 7,
   "metadata": {},
   "outputs": [
    {
     "name": "stdout",
     "output_type": "stream",
     "text": [
      "[3, 1, 8, 10, 4]\n"
     ]
    }
   ],
   "source": [
    "array = [3, 4, 8, 10, 1]\n",
    "re_order_array(array)\n",
    "print(array)\n"
   ]
  },
  {
   "cell_type": "code",
   "execution_count": null,
   "metadata": {},
   "outputs": [],
   "source": []
  },
  {
   "cell_type": "markdown",
   "metadata": {},
   "source": [
    "# 用两个栈来实现队列\n",
    "\n",
    "题目描述：\n",
    "\n",
    "用两个栈来实现一个队列，完成队列的Push和Pop操作。 队列中的元素为int类型。\n",
    "\n",
    "push时候加入stack1\n",
    "pop的时候如果stack2不为空则pop stack2否则讲stack1的元素加入stack2 pop stack2\n"
   ]
  },
  {
   "cell_type": "code",
   "execution_count": 9,
   "metadata": {},
   "outputs": [],
   "source": [
    "class MyQueue:\n",
    "    def __init__(self):\n",
    "        self.stack1 = []\n",
    "        self.stack2 = []\n",
    "    \n",
    "    def push(self, val):\n",
    "        self.stack1.append(val)\n",
    "    \n",
    "    def pop(self):\n",
    "        if self.stack2:\n",
    "            return self.stack2.pop()\n",
    "        else:\n",
    "            while self.stack1:\n",
    "                self.stack2.append(self.stack1.pop())\n",
    "            return self.stack2.pop()\n",
    "    "
   ]
  },
  {
   "cell_type": "code",
   "execution_count": 11,
   "metadata": {},
   "outputs": [
    {
     "name": "stdout",
     "output_type": "stream",
     "text": [
      "1\n",
      "2\n",
      "3\n",
      "4\n",
      "5\n"
     ]
    }
   ],
   "source": [
    "queue = MyQueue()\n",
    "queue.push(1)\n",
    "queue.push(2)\n",
    "queue.push(3)\n",
    "queue.push(4)\n",
    "print(queue.pop())\n",
    "queue.push(5)\n",
    "print(queue.pop())\n",
    "print(queue.pop())\n",
    "print(queue.pop())\n",
    "print(queue.pop())"
   ]
  },
  {
   "cell_type": "code",
   "execution_count": null,
   "metadata": {},
   "outputs": [],
   "source": []
  },
  {
   "cell_type": "markdown",
   "metadata": {},
   "source": [
    "# 用两个队列实现栈\n",
    "\n",
    "push的时候先放入queue2然后讲所有queue1的元素放到queue2,讲queue1和queue2交换\n",
    "目的是讲已经有的元素次序颠倒下\n",
    "pop时候从queue1弹出\n"
   ]
  },
  {
   "cell_type": "code",
   "execution_count": 16,
   "metadata": {},
   "outputs": [],
   "source": [
    "from collections import deque\n",
    "\n",
    "class MyStack:\n",
    "    \n",
    "    def __init__(self):\n",
    "        self.queue1 = deque()\n",
    "        self.queue2 = deque()\n",
    "    \n",
    "    def push(self, val):\n",
    "        self.queue2.append(val)\n",
    "        while self.queue1:\n",
    "            self.queue2.append(self.queue1.popleft())\n",
    "        self.queue1, self.queue2 = self.queue2, self.queue1\n",
    "    \n",
    "    def pop(self):\n",
    "        return self.queue1.popleft()\n",
    "    \n",
    "    def top(self):\n",
    "        return self.queue1[0]\n",
    "    \n",
    "    def empty(self):\n",
    "        return not self.queue1\n",
    "    \n",
    "    "
   ]
  },
  {
   "cell_type": "code",
   "execution_count": 17,
   "metadata": {},
   "outputs": [
    {
     "name": "stdout",
     "output_type": "stream",
     "text": [
      "4\n",
      "5\n",
      "3\n"
     ]
    }
   ],
   "source": [
    "mystack = MyStack()\n",
    "mystack.push(1)\n",
    "mystack.push(2)\n",
    "mystack.push(3)\n",
    "mystack.push(4)\n",
    "print(mystack.pop())\n",
    "mystack.push(5)\n",
    "print(mystack.pop())\n",
    "print(mystack.pop())\n"
   ]
  },
  {
   "cell_type": "code",
   "execution_count": null,
   "metadata": {},
   "outputs": [],
   "source": []
  },
  {
   "cell_type": "markdown",
   "metadata": {},
   "source": [
    "# 旋转数组中的最小数字\n",
    "\n",
    "\n",
    "题目描述：\n",
    "\n",
    "把一个数组最开始的若干个元素搬到数组的末尾，我们称之为数组的旋转。 输入一个非递减排序的数组的一个旋转，输出旋转数组的最小元素。 例如数组{3,4,5,1,2}为{1,2,3,4,5}的一个旋转，该数组的最小值为1。 NOTE：给出的所有元素都大于0，若数组大小为0，请返回0。\n",
    "\n",
    "\n",
    "\n",
    "使用二分法。\n",
    "\n",
    "当左边元素大于右边元素时。\n",
    "如果中间位置和左边位置右边位置的数字相同则调用min(nums)函数\n",
    "否则,如果nums[left] <= nums[mid] 说明mid左边都是排好的 left = mid 否则如果nums[right] >= nums[mid]则说明右边是排好的right = mid\n",
    "\n",
    "否则输出第一个元素\n",
    "\n"
   ]
  },
  {
   "cell_type": "code",
   "execution_count": 18,
   "metadata": {},
   "outputs": [],
   "source": [
    "def find_min(nums):\n",
    "    if not nums:\n",
    "        return False\n",
    "    left, right = 0, len(nums) - 1\n",
    "    while nums[left] >= nums[right]:\n",
    "        mid = left + (right - left) // 2\n",
    "        if nums[left] == nums[mid] == nums[right]:\n",
    "            return min(nums)\n",
    "        if nums[left] <= nums[mid]:\n",
    "            left = mid\n",
    "        if nums[right] >= nums[mid]:\n",
    "            right = mid\n",
    "    return nums[0]\n"
   ]
  },
  {
   "cell_type": "code",
   "execution_count": null,
   "metadata": {},
   "outputs": [],
   "source": []
  },
  {
   "cell_type": "markdown",
   "metadata": {},
   "source": [
    "# 斐波那契数列\n",
    "\n",
    "大家都知道斐波那契数列，现在要求输入一个整数n，请你输出斐波那契数列的第n项。\n",
    "n<=39\n"
   ]
  },
  {
   "cell_type": "code",
   "execution_count": 21,
   "metadata": {},
   "outputs": [],
   "source": [
    "def fibonacci(n):\n",
    "    a, b = 0, 1\n",
    "    for i in range(n):\n",
    "        a, b = b, a + b\n",
    "    return a"
   ]
  },
  {
   "cell_type": "code",
   "execution_count": 22,
   "metadata": {},
   "outputs": [
    {
     "data": {
      "text/plain": [
       "2"
      ]
     },
     "execution_count": 22,
     "metadata": {},
     "output_type": "execute_result"
    }
   ],
   "source": [
    "fibonacci(3)\n"
   ]
  },
  {
   "cell_type": "code",
   "execution_count": null,
   "metadata": {},
   "outputs": [],
   "source": []
  },
  {
   "cell_type": "markdown",
   "metadata": {},
   "source": [
    "# 跳台阶\n",
    "\n",
    "一只青蛙一次可以跳上1级台阶，也可以跳上2级。求该青蛙跳上一个n级的台阶总共有多少种跳法。\n"
   ]
  },
  {
   "cell_type": "code",
   "execution_count": 23,
   "metadata": {},
   "outputs": [],
   "source": [
    "def jump_floor(n):\n",
    "    dp = [0]*(n+1)\n",
    "    dp[1] = 1\n",
    "    dp[2] = 2\n",
    "    for i in range(n+1):\n",
    "        dp[i] = dp[i - 1] + dp[i - 2]\n",
    "    return dp[-1]\n"
   ]
  },
  {
   "cell_type": "code",
   "execution_count": null,
   "metadata": {},
   "outputs": [],
   "source": []
  },
  {
   "cell_type": "markdown",
   "metadata": {},
   "source": [
    "# 变态跳台阶\n",
    "\n",
    "\n",
    "一只青蛙一次可以跳上1级台阶，也可以跳上2级……它也可以跳上n级。求该青蛙跳上一个n级的台阶总共有多少种跳法。\n",
    "\n",
    "\n",
    "数学归纳法可以得出这个题的结果是2的n-1次方。\n",
    "\n",
    "\n",
    "\n",
    "1）这里的f(n) 代表的是n个台阶有一次1,2,…n阶的 跳法数。\n",
    "\n",
    "\n",
    "2）\n",
    "n = 1时，只有1种跳法，f(1) = 1\n",
    "\n",
    "\n",
    "n = 2时，会有两个跳得方式，一次1阶或者2阶，这回归到了问题（1） ，f(2) = f(2-1) + f(2-2)\n",
    "\n",
    "\n",
    "n = 3时，会有三种跳得方式，1阶、2阶、3阶，\n",
    "\n",
    "\n",
    "那么就是第一次跳出1阶后面剩下：f(3-1);第一次跳出2阶，剩下f(3-2)；第一次3阶，那么剩下f(3-3)\n",
    "\n",
    "\n",
    "因此结论是f(3) = f(3-1)+f(3-2)+f(3-3)\n",
    "\n",
    "\n",
    "n = n时，会有n中跳的方式，1阶、2阶…n阶，得出结论：\n",
    "\n",
    "\n",
    "f(n) = f(n-1)+f(n-2)+...+f(n-(n-1)) + f(n-n) => f(0) + f(1) + f(2) + f(3) + ... + f(n-1)\n",
    "\n",
    "\n",
    "由以上已经是一种结论，但是为了简单，我们可以继续简化：\n",
    "\n",
    "\n",
    "f(n-1) = f(0) + f(1)+f(2)+f(3) + ... + f((n-1)-1) = f(0) + f(1) + f(2) + f(3) + ... + f(n-2)\n",
    "\n",
    "\n",
    "f(n) = f(0) + f(1) + f(2) + f(3) + ... + f(n-2) + f(n-1) = f(n-1) + f(n-1)\n",
    "\n",
    "\n",
    "可以得出：\n",
    "\n",
    "\n",
    "f(n) = 2*f(n-1)\n",
    "\n",
    "\n",
    "\n",
    "得出最终结论,在n阶台阶，一次有1、2、…n阶的跳的方式时，总得跳法为：\n",
    "\n",
    "f(n) = 2*f(n-1),(n>=2)"
   ]
  },
  {
   "cell_type": "code",
   "execution_count": null,
   "metadata": {},
   "outputs": [],
   "source": []
  },
  {
   "cell_type": "markdown",
   "metadata": {},
   "source": [
    "# 矩阵覆盖\n",
    "\n",
    "\n",
    "\n",
    "我们可以用2*1的小矩形横着或者竖着去覆盖更大的矩形。请问用n个2*1的小矩形无重叠地覆盖一个2*n的大矩形，总共有多少种方法？\n",
    "\n",
    "fibonacci\n"
   ]
  },
  {
   "cell_type": "code",
   "execution_count": null,
   "metadata": {},
   "outputs": [],
   "source": []
  },
  {
   "cell_type": "markdown",
   "metadata": {},
   "source": [
    "# 二进制中1的个数\n",
    "\n",
    "输入一个整数，输出该数二进制表示中1的个数。其中负数用补码表示。\n"
   ]
  },
  {
   "cell_type": "code",
   "execution_count": 25,
   "metadata": {},
   "outputs": [],
   "source": [
    "def num_of_ones(n):\n",
    "    n_bin = '{0:b}'.format(n)\n",
    "    print(n_bin)\n",
    "    return sum([1 for i in n_bin if i == '1'])\n"
   ]
  },
  {
   "cell_type": "code",
   "execution_count": 26,
   "metadata": {},
   "outputs": [
    {
     "name": "stdout",
     "output_type": "stream",
     "text": [
      "10\n",
      "1\n"
     ]
    }
   ],
   "source": [
    "print(num_of_ones(2))"
   ]
  },
  {
   "cell_type": "code",
   "execution_count": 27,
   "metadata": {},
   "outputs": [],
   "source": [
    "def num_of_1(n):\n",
    "    ret = 0\n",
    "    while n:\n",
    "        ret += 1\n",
    "        n = n & n-1\n",
    "    return ret\n"
   ]
  },
  {
   "cell_type": "code",
   "execution_count": null,
   "metadata": {},
   "outputs": [],
   "source": []
  },
  {
   "cell_type": "markdown",
   "metadata": {},
   "source": [
    "# 字符串的排列\n",
    "\n",
    "输入一个字符串,按字典序打印出该字符串中字符的所有排列。例如输入字符串abc,则打印出由字符a,b,c所能排列出来的所有字符串abc,acb,bac,bca,cab和cba。\n",
    "\n",
    "输入描述:\n",
    "输入一个字符串,长度不超过9(可能有字符重复),字符只包括大小写字母。\n"
   ]
  },
  {
   "cell_type": "code",
   "execution_count": 32,
   "metadata": {},
   "outputs": [],
   "source": [
    "def permutation(source):\n",
    "    if not source:\n",
    "        return []\n",
    "    res = []\n",
    "    _permutation(source, res, '', len(source))\n",
    "    return sorted(list(set(res)))\n",
    "\n",
    "def _permutation(source, res, path, n):\n",
    "    if len(path) == n:\n",
    "        res.append(path)\n",
    "        return\n",
    "    for i in range(len(source)):\n",
    "        _permutation(source[:i] + source[i+1:],\n",
    "                          res, path + source[i], n)\n",
    "            "
   ]
  },
  {
   "cell_type": "code",
   "execution_count": 33,
   "metadata": {},
   "outputs": [
    {
     "name": "stdout",
     "output_type": "stream",
     "text": [
      "['abc', 'acb', 'bac', 'bca', 'cab', 'cba']\n"
     ]
    }
   ],
   "source": [
    "print(permutation('abc'))\n"
   ]
  },
  {
   "cell_type": "code",
   "execution_count": null,
   "metadata": {},
   "outputs": [],
   "source": []
  },
  {
   "cell_type": "markdown",
   "metadata": {},
   "source": [
    "# 数值的整数次方\n",
    "\n",
    "给定一个double类型的浮点数base和int类型的整数exponent。求base的exponent次方。\n"
   ]
  },
  {
   "cell_type": "code",
   "execution_count": 34,
   "metadata": {},
   "outputs": [],
   "source": [
    "def Power(x, n):\n",
    "    if n < 0:\n",
    "        return Power(1/x, -n)\n",
    "    if n == 0:\n",
    "        return 1 \n",
    "    result = Power(x, n // 2)\n",
    "    if n % 2 == 0:\n",
    "        return result**2\n",
    "    return x * result**2\n"
   ]
  },
  {
   "cell_type": "code",
   "execution_count": null,
   "metadata": {},
   "outputs": [],
   "source": []
  },
  {
   "cell_type": "markdown",
   "metadata": {},
   "source": [
    "# 链表中倒数第k个节点\n",
    "\n",
    "输入一个链表，输出该链表中倒数第k个结点。\n",
    "\n"
   ]
  },
  {
   "cell_type": "code",
   "execution_count": 35,
   "metadata": {},
   "outputs": [],
   "source": [
    "def find_kth_to_tail(head, k):\n",
    "    if not head or not k:\n",
    "        return None\n",
    "    slow, fast = head, head\n",
    "    for i in range(k - 1):\n",
    "        if not fast.next:\n",
    "            return None\n",
    "        fast = fast.next\n",
    "    while fast.next:\n",
    "        slow = slow.next\n",
    "        fast = fast.next\n",
    "    return slow\n",
    "    \n",
    "    \n",
    "    "
   ]
  },
  {
   "cell_type": "code",
   "execution_count": null,
   "metadata": {},
   "outputs": [],
   "source": []
  },
  {
   "cell_type": "markdown",
   "metadata": {},
   "source": [
    "# 反转链表\n",
    "\n",
    "输入一个链表，反转链表后，输出链表的所有元素。\n"
   ]
  },
  {
   "cell_type": "code",
   "execution_count": 36,
   "metadata": {},
   "outputs": [],
   "source": [
    "def reverse_list(head):\n",
    "    if not head or not head.next:\n",
    "        return head\n",
    "    prev = None\n",
    "    while head:\n",
    "        temp = head.next\n",
    "        head.next = prev\n",
    "        prev = head\n",
    "        head = temp\n",
    "    return prev\n"
   ]
  },
  {
   "cell_type": "code",
   "execution_count": null,
   "metadata": {},
   "outputs": [],
   "source": []
  },
  {
   "cell_type": "markdown",
   "metadata": {},
   "source": [
    "# 合并两个排序的链表\n",
    "\n",
    "输入两个单调递增的链表，输出两个链表合成后的链表，当然我们需要合成后的链表满足单调不减规则。\n",
    "\n"
   ]
  },
  {
   "cell_type": "code",
   "execution_count": null,
   "metadata": {},
   "outputs": [],
   "source": []
  },
  {
   "cell_type": "code",
   "execution_count": null,
   "metadata": {},
   "outputs": [],
   "source": [
    "# Definition for singly-linked list.\n",
    "# class ListNode(object):\n",
    "#     def __init__(self, x):\n",
    "#         self.val = x\n",
    "#         self.next = None\n",
    "\n",
    "class Solution(object):\n",
    "    def mergeTwoLists(self, l1, l2):\n",
    "        \"\"\"\n",
    "        :type l1: ListNode\n",
    "        :type l2: ListNode\n",
    "        :rtype: ListNode\n",
    "        \"\"\"\n",
    "        head = ListNode(0)\n",
    "        move = head\n",
    "        if not l1: return l2\n",
    "        if not l2: return l1\n",
    "        while l1 and l2:\n",
    "            if l1.val < l2.val:\n",
    "                move.next = l1\n",
    "                l1 = l1.next\n",
    "            else:\n",
    "                move.next = l2\n",
    "                l2 = l2.next\n",
    "            move = move.next\n",
    "        move.next = l1 if l1 else l2\n",
    "        return head.next\n",
    "    "
   ]
  },
  {
   "cell_type": "code",
   "execution_count": null,
   "metadata": {},
   "outputs": [],
   "source": []
  },
  {
   "cell_type": "code",
   "execution_count": null,
   "metadata": {},
   "outputs": [],
   "source": []
  },
  {
   "cell_type": "code",
   "execution_count": null,
   "metadata": {},
   "outputs": [],
   "source": []
  },
  {
   "cell_type": "code",
   "execution_count": null,
   "metadata": {},
   "outputs": [],
   "source": []
  },
  {
   "cell_type": "code",
   "execution_count": null,
   "metadata": {},
   "outputs": [],
   "source": []
  },
  {
   "cell_type": "code",
   "execution_count": null,
   "metadata": {},
   "outputs": [],
   "source": []
  },
  {
   "cell_type": "code",
   "execution_count": null,
   "metadata": {},
   "outputs": [],
   "source": []
  },
  {
   "cell_type": "code",
   "execution_count": null,
   "metadata": {},
   "outputs": [],
   "source": []
  },
  {
   "cell_type": "code",
   "execution_count": null,
   "metadata": {},
   "outputs": [],
   "source": []
  },
  {
   "cell_type": "code",
   "execution_count": null,
   "metadata": {},
   "outputs": [],
   "source": []
  },
  {
   "cell_type": "code",
   "execution_count": null,
   "metadata": {},
   "outputs": [],
   "source": []
  },
  {
   "cell_type": "code",
   "execution_count": null,
   "metadata": {},
   "outputs": [],
   "source": []
  },
  {
   "cell_type": "code",
   "execution_count": null,
   "metadata": {},
   "outputs": [],
   "source": []
  },
  {
   "cell_type": "code",
   "execution_count": null,
   "metadata": {},
   "outputs": [],
   "source": []
  },
  {
   "cell_type": "code",
   "execution_count": null,
   "metadata": {},
   "outputs": [],
   "source": []
  },
  {
   "cell_type": "code",
   "execution_count": null,
   "metadata": {},
   "outputs": [],
   "source": []
  },
  {
   "cell_type": "code",
   "execution_count": null,
   "metadata": {},
   "outputs": [],
   "source": []
  },
  {
   "cell_type": "code",
   "execution_count": null,
   "metadata": {},
   "outputs": [],
   "source": []
  },
  {
   "cell_type": "code",
   "execution_count": null,
   "metadata": {},
   "outputs": [],
   "source": []
  },
  {
   "cell_type": "code",
   "execution_count": null,
   "metadata": {},
   "outputs": [],
   "source": []
  },
  {
   "cell_type": "code",
   "execution_count": null,
   "metadata": {},
   "outputs": [],
   "source": []
  },
  {
   "cell_type": "code",
   "execution_count": null,
   "metadata": {},
   "outputs": [],
   "source": []
  },
  {
   "cell_type": "code",
   "execution_count": null,
   "metadata": {},
   "outputs": [],
   "source": []
  }
 ],
 "metadata": {
  "kernelspec": {
   "display_name": "Python 3",
   "language": "python",
   "name": "python3"
  },
  "language_info": {
   "codemirror_mode": {
    "name": "ipython",
    "version": 3
   },
   "file_extension": ".py",
   "mimetype": "text/x-python",
   "name": "python",
   "nbconvert_exporter": "python",
   "pygments_lexer": "ipython3",
   "version": "3.7.6"
  },
  "toc": {
   "base_numbering": 1,
   "nav_menu": {},
   "number_sections": true,
   "sideBar": true,
   "skip_h1_title": false,
   "title_cell": "Table of Contents",
   "title_sidebar": "Contents",
   "toc_cell": true,
   "toc_position": {},
   "toc_section_display": true,
   "toc_window_display": true
  }
 },
 "nbformat": 4,
 "nbformat_minor": 4
}
